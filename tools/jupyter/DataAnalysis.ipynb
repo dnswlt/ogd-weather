{
 "cells": [
  {
   "cell_type": "code",
   "execution_count": null,
   "id": "ecd36d01-2445-4b07-9dc2-eef77f89aec7",
   "metadata": {},
   "outputs": [],
   "source": [
    "import altair as alt\n",
    "import datetime\n",
    "import numpy as np\n",
    "import os\n",
    "import pandas as pd\n",
    "from pathlib import Path\n",
    "import re\n"
   ]
  },
  {
   "cell_type": "code",
   "execution_count": null,
   "id": "9bdbf1fe-38e8-44c7-a3f8-0a8eda480126",
   "metadata": {},
   "outputs": [],
   "source": [
    "BASE_DIR = Path(os.getenv(\"HOME\")) / \"git\" / \"github.com\" / \"dnswlt\" / \"ogd-weather\""
   ]
  },
  {
   "cell_type": "code",
   "execution_count": null,
   "id": "577df325-88c3-4353-a19a-f6821f0a9eed",
   "metadata": {},
   "outputs": [],
   "source": [
    "DATA_DIR = BASE_DIR / \"data\"\n",
    "for i, f in enumerate(DATA_DIR.glob(\"*.csv\")):\n",
    "    if i > 10:\n",
    "        break\n",
    "    print(f.name)"
   ]
  },
  {
   "cell_type": "code",
   "execution_count": null,
   "id": "c2d06e7e-1988-4087-a014-75984778d8ac",
   "metadata": {},
   "outputs": [],
   "source": [
    "hourly_ber = DATA_DIR / \"ogd-smn_ber_h_historical_2010-2019.csv\"\n",
    "df = pd.read_csv(\n",
    "    hourly_ber,\n",
    "    encoding=\"cp1252\",\n",
    "    sep=\";\",\n",
    "    date_format={\n",
    "        \"reference_timestamp\": \"%d.%m.%Y %H:%M\",\n",
    "    },\n",
    "    parse_dates=[\"reference_timestamp\"],\n",
    ")\n",
    "df.head()"
   ]
  },
  {
   "cell_type": "code",
   "execution_count": null,
   "id": "3cb07cf1-cf27-4475-9cff-bf2213813484",
   "metadata": {},
   "outputs": [],
   "source": [
    "mcols = sorted(set(df.columns) - set([\"station_abbr\", \"reference_timestamp\"]))"
   ]
  },
  {
   "cell_type": "code",
   "execution_count": null,
   "id": "66b4d742-6239-4423-8d90-4cc70a4309e7",
   "metadata": {},
   "outputs": [],
   "source": [
    "nancols = df[mcols].isna().astype(int).sum()\n",
    "nancols = nancols[nancols > 10]  # Ignore if just a few data points are missing\n",
    "nancols"
   ]
  },
  {
   "cell_type": "code",
   "execution_count": null,
   "id": "6fd01e2a-894e-4f32-9d71-02be81f168ad",
   "metadata": {},
   "outputs": [],
   "source": [
    "smn_params_csv = DATA_DIR / \"ogd-smn_meta_parameters.csv\"\n",
    "ps = pd.read_csv(smn_params_csv, encoding=\"cp1252\", sep=\";\").set_index(\"parameter_shortname\")"
   ]
  },
  {
   "cell_type": "code",
   "execution_count": null,
   "id": "ab344987-934c-4eb1-93ce-6592baad32d0",
   "metadata": {},
   "outputs": [],
   "source": [
    "ps.loc[nancols.index][[\"parameter_description_de\", \"parameter_description_en\"]]"
   ]
  },
  {
   "cell_type": "code",
   "execution_count": null,
   "id": "be8dfde9-90ec-48ac-8ebc-9782ccc16800",
   "metadata": {},
   "outputs": [],
   "source": [
    "ps.loc[mcols][[\"parameter_description_de\", \"parameter_description_en\", \"parameter_unit\"]]"
   ]
  },
  {
   "cell_type": "code",
   "execution_count": null,
   "id": "c1570ccf-79de-40d6-aa4c-3184f1f1be4c",
   "metadata": {},
   "outputs": [],
   "source": [
    "\n",
    "day = datetime.date(2015, 8, 1)\n",
    "dfd = df[df[\"reference_timestamp\"].dt.date == day]\n",
    "dfd.head()"
   ]
  },
  {
   "cell_type": "code",
   "execution_count": null,
   "id": "5f5fe814-80dc-4c67-9683-2da8596788e8",
   "metadata": {},
   "outputs": [],
   "source": [
    "def plot_day(df, date, variable, type_=\"bar\", y_domain=None, title=\"Untitled chart\"):\n",
    "    dfd = df[df[\"reference_timestamp\"].dt.date == date]\n",
    "    chart = alt.Chart(dfd)\n",
    "    chart = chart.mark_line() if type_==\"line\" else chart.mark_bar()\n",
    "    x = alt.X(\"reference_timestamp:T\", timeUnit=\"dayhours\", title=\"Hour of day\")\n",
    "    y = alt.Y(f\"{variable}:Q\")\n",
    "    if y_domain:\n",
    "        y = y.scale(domain=y_domain)\n",
    "    return chart.encode(\n",
    "        x=x,\n",
    "        y=y,\n",
    "    ).properties(\n",
    "        title=title,\n",
    "    )"
   ]
  },
  {
   "cell_type": "code",
   "execution_count": null,
   "id": "cc9c963d-4283-45ec-9222-cbbf99713ba2",
   "metadata": {},
   "outputs": [],
   "source": [
    "day1 = datetime.date(2015, 8, 2)\n",
    "plot_day(df, day1, \"gre000h0\", title=\"Globalstrahlung\")"
   ]
  },
  {
   "cell_type": "code",
   "execution_count": null,
   "id": "f33a95cf-9ab1-43ad-a1ce-c02b98f73afa",
   "metadata": {},
   "outputs": [],
   "source": [
    "plot_day(df, day1, \"pva200h0\", title=\"Dampfdruck\")"
   ]
  },
  {
   "cell_type": "code",
   "execution_count": null,
   "id": "ae92853f-e8d6-4f8b-a8f0-6a231383f3fd",
   "metadata": {},
   "outputs": [],
   "source": [
    "plot_day(df, day1, \"tde200h0\", title=\"Taupunkt\")"
   ]
  },
  {
   "cell_type": "code",
   "execution_count": null,
   "id": "8572807b-fbb9-4706-b5de-f129ed5e5961",
   "metadata": {},
   "outputs": [],
   "source": [
    "plot_day(df, day1, \"ure200h0\", title=\"Rel. Luftfeuchtigkeit\")"
   ]
  },
  {
   "cell_type": "code",
   "execution_count": null,
   "id": "f0318e23-2235-4547-af1f-fd137a56efdd",
   "metadata": {},
   "outputs": [],
   "source": [
    "plot_day(df, day1, \"sre000h0\", title=\"Sonnenscheindauer\")"
   ]
  },
  {
   "cell_type": "code",
   "execution_count": null,
   "id": "594cb640-9300-4006-add2-7e1fa949481a",
   "metadata": {},
   "outputs": [],
   "source": [
    "plot_day(df, day1, \"prestah0\", title=\"Luftdruck\", type_=\"line\", y_domain=(940, 970))"
   ]
  },
  {
   "cell_type": "code",
   "execution_count": null,
   "id": "b4f0bc86-389c-4a12-a93c-a9c2823b7326",
   "metadata": {},
   "outputs": [],
   "source": [
    "plot_day(df, day1, \"tre200h0\", title=\"Temperatur\", type_=\"line\")"
   ]
  },
  {
   "cell_type": "code",
   "execution_count": null,
   "id": "9dc82883-a4e3-4147-a452-7560b140d9e7",
   "metadata": {},
   "outputs": [],
   "source": [
    "# Calculate the vapour pressure from the dew point\n",
    "# using the WMO-prescribed version of the Magnus-Tetens formula.\n",
    "def dew_to_vapour(df):\n",
    "    # For dew points ≥ 0°C (used everywhere yields closest approximation to MeteoSwiss data)\n",
    "    a = 6.112\n",
    "    b = 17.67\n",
    "    c = 243.5\n",
    "\n",
    "    T = df[\"tde200h0\"]\n",
    "    return a * np.exp((b * T) / (c + T))\n",
    "\n",
    "df[\"vapour_from_dew\"] = dew_to_vapour(df)"
   ]
  },
  {
   "cell_type": "code",
   "execution_count": null,
   "id": "cc7519fb-e3e7-498c-8c64-2c43c29c739e",
   "metadata": {},
   "outputs": [],
   "source": [
    "df[\"vfd_err\"] = df[\"vapour_from_dew\"] - df[\"pva200h0\"]\n",
    "plot_day(df, day1, \"vfd_err\", title=\"Dampfdruck (aus Taupunkt), Fehler (in hPa)\", type_=\"line\", y_domain=(-1, 1))"
   ]
  },
  {
   "cell_type": "code",
   "execution_count": null,
   "id": "b4bbc03e-ea26-4ff7-a733-8d935a87baf9",
   "metadata": {},
   "outputs": [],
   "source": [
    "(df[\"vfd_err\"]).describe()"
   ]
  },
  {
   "cell_type": "code",
   "execution_count": null,
   "id": "b86171dc-1b85-4836-a013-dc4b904666bf",
   "metadata": {},
   "outputs": [],
   "source": [
    "# Check data availability for all stations\n",
    "res = []\n",
    "for i, f in enumerate(DATA_DIR.glob(\"*h_historical_2020-2029.csv\")):\n",
    "    df = pd.read_csv(\n",
    "        f,\n",
    "        encoding=\"cp1252\",\n",
    "        sep=\";\",\n",
    "        date_format={\n",
    "            \"reference_timestamp\": \"%d.%m.%Y %H:%M\",\n",
    "        },\n",
    "        parse_dates=[\"reference_timestamp\"],\n",
    "    )\n",
    "    nz = (df[[\"pva200h0\", \"tde200h0\", \"gre000h0\"]] > 0).astype(int).sum()\n",
    "    stn = re.search(r'ogd-smn_(\\w+)_h_hist', str(f)).group(1)\n",
    "    res.append((stn.upper(), nz))\n",
    "\n",
    "avail = pd.DataFrame({f: nz for (f, nz) in sorted(res)}).T\n",
    "avail.head(10)"
   ]
  },
  {
   "cell_type": "code",
   "execution_count": null,
   "id": "f5fde20a-c0fb-4854-9361-cf728e8dc880",
   "metadata": {},
   "outputs": [],
   "source": [
    "def dew_to_vapour1(T):\n",
    "    # For dew points ≥ 0°C (used everywhere yields closest approximation to MeteoSwiss data)\n",
    "    a = 6.112\n",
    "    b = 17.67\n",
    "    c = 243.5\n",
    "\n",
    "    return a * np.exp((b * T) / (c + T))\n",
    "\n",
    "dew_to_vapour1(15.853)"
   ]
  },
  {
   "cell_type": "code",
   "execution_count": null,
   "id": "cf5dae39-5225-4770-865d-596bc34a2de6",
   "metadata": {},
   "outputs": [],
   "source": [
    "daily_ber = DATA_DIR / \"ogd-smn_ber_d_historical.csv\"\n",
    "dfd = pd.read_csv(\n",
    "    daily_ber,\n",
    "    encoding=\"cp1252\",\n",
    "    sep=\";\",\n",
    "    date_format={\n",
    "        \"reference_timestamp\": \"%d.%m.%Y %H:%M\",\n",
    "    },\n",
    "    parse_dates=[\"reference_timestamp\"],\n",
    ")\n",
    "dfd = dfd[dfd[\"reference_timestamp\"].dt.date == datetime.date(2015, 6, 1)]\n",
    "dfd[[\"station_abbr\", \"reference_timestamp\", \"gre000d0\"]]"
   ]
  },
  {
   "cell_type": "code",
   "execution_count": null,
   "id": "12ba5da5-b710-4393-a7ba-24cf4db091f3",
   "metadata": {},
   "outputs": [],
   "source": [
    "hourly_ber = DATA_DIR / \"ogd-smn_ber_h_historical_2010-2019.csv\"\n",
    "dfh = pd.read_csv(\n",
    "    hourly_ber,\n",
    "    encoding=\"cp1252\",\n",
    "    sep=\";\",\n",
    "    date_format={\n",
    "        \"reference_timestamp\": \"%d.%m.%Y %H:%M\",\n",
    "    },\n",
    "    parse_dates=[\"reference_timestamp\"],\n",
    ")\n",
    "dfh = dfh[dfh[\"reference_timestamp\"].dt.date == datetime.date(2015, 6, 1)]\n",
    "dfh[[\"station_abbr\", \"reference_timestamp\", \"gre000h0\"]]"
   ]
  },
  {
   "cell_type": "code",
   "execution_count": null,
   "id": "5aa279a7-f0fd-4b26-ba26-0189621ad7cd",
   "metadata": {},
   "outputs": [],
   "source": [
    "dfh[\"gre000h0\"].mean()"
   ]
  },
  {
   "cell_type": "code",
   "execution_count": null,
   "id": "ac6ba961-b583-44ba-9b79-4f2cd45f93d4",
   "metadata": {},
   "outputs": [],
   "source": []
  }
 ],
 "metadata": {
  "kernelspec": {
   "display_name": "Python 3 (ipykernel)",
   "language": "python",
   "name": "python3"
  },
  "language_info": {
   "codemirror_mode": {
    "name": "ipython",
    "version": 3
   },
   "file_extension": ".py",
   "mimetype": "text/x-python",
   "name": "python",
   "nbconvert_exporter": "python",
   "pygments_lexer": "ipython3",
   "version": "3.13.5"
  }
 },
 "nbformat": 4,
 "nbformat_minor": 5
}
